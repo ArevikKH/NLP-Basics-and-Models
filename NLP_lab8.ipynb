{
  "nbformat": 4,
  "nbformat_minor": 0,
  "metadata": {
    "colab": {
      "provenance": []
    },
    "kernelspec": {
      "name": "python3",
      "display_name": "Python 3"
    },
    "language_info": {
      "name": "python"
    }
  },
  "cells": [
    {
      "cell_type": "code",
      "source": [
        "!gdown 1BheorA2H5R_KfC0nykchyaUNZtpJHW1o"
      ],
      "metadata": {
        "colab": {
          "base_uri": "https://localhost:8080/"
        },
        "id": "DV5cXEpw816V",
        "outputId": "3130c61f-bd5d-461c-f399-c7345befc181"
      },
      "execution_count": 36,
      "outputs": [
        {
          "output_type": "stream",
          "name": "stdout",
          "text": [
            "Downloading...\n",
            "From: https://drive.google.com/uc?id=1BheorA2H5R_KfC0nykchyaUNZtpJHW1o\n",
            "To: /content/data.pdf\n",
            "\r  0% 0.00/22.9k [00:00<?, ?B/s]\r100% 22.9k/22.9k [00:00<00:00, 51.8MB/s]\n"
          ]
        }
      ]
    },
    {
      "cell_type": "code",
      "source": [
        "!pip install pymupdf pandas\n"
      ],
      "metadata": {
        "colab": {
          "base_uri": "https://localhost:8080/"
        },
        "id": "eFFSdT9qCRoT",
        "outputId": "52968e81-f467-4e88-8de4-4d3c4e39fc1c"
      },
      "execution_count": 37,
      "outputs": [
        {
          "output_type": "stream",
          "name": "stdout",
          "text": [
            "Requirement already satisfied: pymupdf in /usr/local/lib/python3.10/dist-packages (1.25.0)\n",
            "Requirement already satisfied: pandas in /usr/local/lib/python3.10/dist-packages (2.2.2)\n",
            "Requirement already satisfied: numpy>=1.22.4 in /usr/local/lib/python3.10/dist-packages (from pandas) (1.26.4)\n",
            "Requirement already satisfied: python-dateutil>=2.8.2 in /usr/local/lib/python3.10/dist-packages (from pandas) (2.8.2)\n",
            "Requirement already satisfied: pytz>=2020.1 in /usr/local/lib/python3.10/dist-packages (from pandas) (2024.2)\n",
            "Requirement already satisfied: tzdata>=2022.7 in /usr/local/lib/python3.10/dist-packages (from pandas) (2024.2)\n",
            "Requirement already satisfied: six>=1.5 in /usr/local/lib/python3.10/dist-packages (from python-dateutil>=2.8.2->pandas) (1.16.0)\n"
          ]
        }
      ]
    },
    {
      "cell_type": "code",
      "source": [
        "import fitz  # PyMuPDF\n",
        "import pandas as pd\n",
        "\n",
        "pdf_file = \"/content/data.pdf\"\n",
        "\n",
        "def extract_text_from_pdf(pdf_file):\n",
        "    doc = fitz.open(pdf_file)\n",
        "    extracted_text = \"\"\n",
        "    for page in doc:\n",
        "        extracted_text += page.get_text() + \"\\n\"\n",
        "    return extracted_text\n",
        "\n",
        "def parse_text_to_dataframe(text):\n",
        "    rows = text.strip().split(\"\\n\")\n",
        "    data = [row.split(\",\") for row in rows if row.count(\",\") == 3]\n",
        "    headers = data[0]\n",
        "    rows_data = data[1:]\n",
        "    df = pd.DataFrame(rows_data, columns=headers)\n",
        "    df[\"StudentID\"] = df[\"StudentID\"].astype(int)\n",
        "    df[\"Day\"] = df[\"Day\"].astype(int)\n",
        "    return df\n",
        "\n",
        "def calculate_hmm_matrices(df):\n",
        "    # Initial Probability Distribution\n",
        "    initial_counts = df[df[\"Day\"] == 1][\"Mood\"].value_counts()\n",
        "    total_students = len(df[\"StudentID\"].unique())\n",
        "    initial_prob = {mood: (count) / (total_students) for mood, count in initial_counts.items()}\n",
        "\n",
        "    # Transition Matrix\n",
        "    transition_pairs = []\n",
        "    for student_id, group in df.groupby(\"StudentID\"):\n",
        "        moods = group[\"Mood\"].tolist()\n",
        "        transition_pairs.extend(zip(moods[:-1], moods[1:]))\n",
        "\n",
        "    transition_counts = pd.Series(transition_pairs).value_counts()\n",
        "    transition_totals = df[\"Mood\"].value_counts()\n",
        "    states = [\"H\", \"S\"]\n",
        "\n",
        "    transition_matrix = {\n",
        "        (m1, m2): (transition_counts.get((m1, m2), 0) + 1) / (transition_totals.get(m1, 0) + len(states))\n",
        "        for m1 in states for m2 in states\n",
        "    }\n",
        "\n",
        "    # Emission Matrix\n",
        "    emission_counts = df.groupby([\"Mood\", \"ShirtColor\"]).size()\n",
        "    mood_totals = df[\"Mood\"].value_counts()\n",
        "    colors = [\"R\", \"G\", \"B\"]\n",
        "\n",
        "    emission_matrix = {\n",
        "        (mood, color): (emission_counts.get((mood, color), 0) + 1) / (mood_totals.get(mood, 0) + len(colors))\n",
        "        for mood in states for color in colors\n",
        "    }\n",
        "\n",
        "    return initial_prob, transition_matrix, emission_matrix\n",
        "\n",
        "def calculate_sequence_probability(sequence, colors, initial_prob, transition_matrix, emission_matrix):\n",
        "    prob = initial_prob.get(sequence[0], 0) * emission_matrix.get((sequence[0], colors[0]), 0)\n",
        "    if prob == 0:\n",
        "        return 0\n",
        "\n",
        "    for i in range(1, len(sequence)):\n",
        "        transition_prob = transition_matrix.get((sequence[i - 1], sequence[i]), 0)\n",
        "        emission_prob = emission_matrix.get((sequence[i], colors[i]), 0)\n",
        "\n",
        "        if transition_prob == 0 or emission_prob == 0:\n",
        "            return 0\n",
        "\n",
        "        prob *= transition_prob * emission_prob\n",
        "\n",
        "    return prob\n",
        "\n",
        "text = extract_text_from_pdf(pdf_file)\n",
        "df = parse_text_to_dataframe(text)\n",
        "\n",
        "initial_prob, transition_matrix, emission_matrix = calculate_hmm_matrices(df)\n",
        "\n",
        "print(\"Initial Probability Distribution:\")\n",
        "print(initial_prob)\n",
        "\n",
        "print(\"\\nTransition Matrix:\")\n",
        "print(transition_matrix)\n",
        "\n",
        "print(\"\\nEmission Matrix:\")\n",
        "print(emission_matrix)\n",
        "\n",
        "observed_colors = [\"R\", \"B\", \"G\"]\n",
        "possible_sequences = [\n",
        "    (\"H\", \"H\", \"H\"), (\"H\", \"H\", \"S\"), (\"H\", \"S\", \"H\"), (\"H\", \"S\", \"S\"),\n",
        "    (\"S\", \"H\", \"H\"), (\"S\", \"H\", \"S\"), (\"S\", \"S\", \"H\"), (\"S\", \"S\", \"S\"),\n",
        "]\n",
        "\n",
        "sequence_probabilities = {\n",
        "    seq: calculate_sequence_probability(seq, observed_colors, initial_prob, transition_matrix, emission_matrix)\n",
        "    for seq in possible_sequences\n",
        "}\n",
        "\n",
        "print(\"\\nSequence Probabilities:\")\n",
        "for seq, prob in sequence_probabilities.items():\n",
        "    print(f\"{seq}: {prob}\")\n",
        "\n",
        "most_likely_sequence = max(sequence_probabilities, key=sequence_probabilities.get)\n",
        "print(\"\\nMost Likely Sequence:\")\n",
        "print(most_likely_sequence)"
      ],
      "metadata": {
        "colab": {
          "base_uri": "https://localhost:8080/"
        },
        "id": "4fKROocbF_fx",
        "outputId": "f2277b54-f184-4c36-fd3f-4b5ca1ed8530"
      },
      "execution_count": 38,
      "outputs": [
        {
          "output_type": "stream",
          "name": "stdout",
          "text": [
            "Initial Probability Distribution:\n",
            "{'H': 0.6, 'S': 0.4}\n",
            "\n",
            "Transition Matrix:\n",
            "{('H', 'H'): 0.6271186440677966, ('H', 'S'): 0.3389830508474576, ('S', 'H'): 0.4222222222222222, ('S', 'S'): 0.5111111111111111}\n",
            "\n",
            "Emission Matrix:\n",
            "{('H', 'R'): 0.7, ('H', 'G'): 0.2833333333333333, ('H', 'B'): 0.016666666666666666, ('S', 'R'): 0.021739130434782608, ('S', 'G'): 0.15217391304347827, ('S', 'B'): 0.8260869565217391}\n",
            "\n",
            "Sequence Probabilities:\n",
            "('H', 'H', 'H'): 0.0007800009575792395\n",
            "('H', 'H', 'S'): 0.0002264466732448197\n",
            "('H', 'S', 'H'): 0.014069925489232785\n",
            "('H', 'S', 'S'): 0.009147629575042988\n",
            "('S', 'H', 'H'): 1.0872749438212469e-05\n",
            "('S', 'H', 'S'): 3.1565319444592782e-06\n",
            "('S', 'S', 'H'): 0.0004392198962247271\n",
            "('S', 'S', 'S'): 0.00028556092324208263\n",
            "\n",
            "Most Likely Sequence:\n",
            "('H', 'S', 'H')\n"
          ]
        }
      ]
    }
  ]
}